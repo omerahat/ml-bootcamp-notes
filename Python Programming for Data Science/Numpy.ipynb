{
 "cells": [
  {
   "cell_type": "markdown",
   "id": "7c5d7b30",
   "metadata": {},
   "source": [
    "## Numpy"
   ]
  },
  {
   "cell_type": "code",
   "execution_count": 1,
   "id": "c566576d",
   "metadata": {},
   "outputs": [],
   "source": [
    "import numpy as np"
   ]
  },
  {
   "cell_type": "code",
   "execution_count": 2,
   "id": "7008e077",
   "metadata": {},
   "outputs": [
    {
     "name": "stdout",
     "output_type": "stream",
     "text": [
      "[ 2  8 15 24]\n"
     ]
    }
   ],
   "source": [
    "a = np.array([1,2,3,4])\n",
    "b = np.array([2,4,5,6])\n",
    "print(a*b)\n",
    "\n",
    "#pythonda bunları for loopla yapıyoruz. numpyda direkt a*b diyerek çarpabiliyoruz"
   ]
  },
  {
   "cell_type": "code",
   "execution_count": 3,
   "id": "2229d9c6",
   "metadata": {},
   "outputs": [
    {
     "name": "stdout",
     "output_type": "stream",
     "text": [
      "<class 'numpy.ndarray'>\n"
     ]
    }
   ],
   "source": [
    "x = np.array([1,2,3,4])\n",
    "print(type(x))\n",
    "\n",
    "#numpy arraylerinin tipi ndarray"
   ]
  },
  {
   "cell_type": "code",
   "execution_count": 4,
   "id": "6d89e7e4",
   "metadata": {},
   "outputs": [
    {
     "name": "stdout",
     "output_type": "stream",
     "text": [
      "[0 0 0 0 0 0 0 0 0 0]\n"
     ]
    }
   ],
   "source": [
    "y = np.zeros(10, dtype=int)\n",
    "print(y)\n",
    "\n",
    "# np.zeros 0 list oluşturur"
   ]
  },
  {
   "cell_type": "code",
   "execution_count": 5,
   "id": "24930f45",
   "metadata": {},
   "outputs": [
    {
     "name": "stdout",
     "output_type": "stream",
     "text": [
      "[[ 4.57390928 13.54935402 11.88700811 10.30826727]\n",
      " [10.76757552  3.9148037  10.9268997   8.49915633]\n",
      " [ 5.80791687  4.02857889  5.27432191 11.05001599]]\n"
     ]
    }
   ],
   "source": [
    "z = np.random.normal(10,4,(3,4))\n",
    "print(z)\n",
    "\n",
    "#.normal(ortalama,standart sapma,boyut)"
   ]
  },
  {
   "cell_type": "code",
   "execution_count": 6,
   "id": "ba8e11ae",
   "metadata": {},
   "outputs": [
    {
     "name": "stdout",
     "output_type": "stream",
     "text": [
      "[0 0 9 8 8]\n"
     ]
    }
   ],
   "source": [
    "k = np.random.randint(0,10,size=5)\n",
    "print(k)\n",
    "\n",
    "# .random.randint(başlangıç, bitiş, size = boyut)"
   ]
  },
  {
   "cell_type": "code",
   "execution_count": 7,
   "id": "b03f1553",
   "metadata": {},
   "outputs": [
    {
     "name": "stdout",
     "output_type": "stream",
     "text": [
      "2\n"
     ]
    }
   ],
   "source": [
    "print(z.ndim)\n",
    "\n",
    "# kaç dimensionlu olduğunu verir"
   ]
  },
  {
   "cell_type": "code",
   "execution_count": 8,
   "id": "305c2648",
   "metadata": {},
   "outputs": [
    {
     "name": "stdout",
     "output_type": "stream",
     "text": [
      "(3, 4)\n"
     ]
    }
   ],
   "source": [
    "print(z.shape)\n",
    "\n",
    "# boyut bilgisi"
   ]
  },
  {
   "cell_type": "code",
   "execution_count": 16,
   "id": "403b2a1f",
   "metadata": {},
   "outputs": [
    {
     "data": {
      "text/plain": [
       "4"
      ]
     },
     "execution_count": 16,
     "metadata": {},
     "output_type": "execute_result"
    }
   ],
   "source": [
    "a.size\n",
    "\n",
    "# eleman sayısını verir"
   ]
  },
  {
   "cell_type": "code",
   "execution_count": 17,
   "id": "0a4ee5c3",
   "metadata": {},
   "outputs": [
    {
     "data": {
      "text/plain": [
       "dtype('int32')"
      ]
     },
     "execution_count": 17,
     "metadata": {},
     "output_type": "execute_result"
    }
   ],
   "source": [
    "a.dtype\n",
    "\n",
    "# içindeki değişkenlerin tipini verir"
   ]
  },
  {
   "cell_type": "code",
   "execution_count": 19,
   "id": "38f534bf",
   "metadata": {},
   "outputs": [
    {
     "data": {
      "text/plain": [
       "array([4, 6, 2, 9, 8, 4, 1, 5, 3])"
      ]
     },
     "execution_count": 19,
     "metadata": {},
     "output_type": "execute_result"
    }
   ],
   "source": [
    "u = np.random.randint(1,10,9)\n",
    "u"
   ]
  },
  {
   "cell_type": "code",
   "execution_count": 21,
   "id": "0555a95d",
   "metadata": {},
   "outputs": [
    {
     "data": {
      "text/plain": [
       "array([[4, 6, 2],\n",
       "       [9, 8, 4],\n",
       "       [1, 5, 3]])"
      ]
     },
     "execution_count": 21,
     "metadata": {},
     "output_type": "execute_result"
    }
   ],
   "source": [
    "u.reshape(3,3)\n",
    "\n",
    "# arrayın şeklini değiştirir (! uyumlu olması lazım mesela size = 10 ise 3,3 e çeviremez)"
   ]
  },
  {
   "cell_type": "code",
   "execution_count": 27,
   "id": "5fa83ec2",
   "metadata": {},
   "outputs": [
    {
     "data": {
      "text/plain": [
       "array([[1, 6, 3, 6, 9],\n",
       "       [3, 2, 8, 2, 6],\n",
       "       [9, 6, 7, 9, 3]])"
      ]
     },
     "execution_count": 27,
     "metadata": {},
     "output_type": "execute_result"
    }
   ],
   "source": [
    "q = np.random.randint(10, size = (3,5))\n",
    "q"
   ]
  },
  {
   "cell_type": "code",
   "execution_count": 32,
   "id": "53d52efa",
   "metadata": {},
   "outputs": [
    {
     "data": {
      "text/plain": [
       "6"
      ]
     },
     "execution_count": 32,
     "metadata": {},
     "output_type": "execute_result"
    }
   ],
   "source": [
    "q[2,1]"
   ]
  },
  {
   "cell_type": "code",
   "execution_count": 30,
   "id": "77e6d2ec",
   "metadata": {},
   "outputs": [
    {
     "data": {
      "text/plain": [
       "array([[  1,   6,   3,   6,   9],\n",
       "       [  3,   2,   8,   2,   6],\n",
       "       [  9,   6,   7, 334,   3]])"
      ]
     },
     "execution_count": 30,
     "metadata": {},
     "output_type": "execute_result"
    }
   ],
   "source": [
    "q[2][3] = 334\n",
    "q"
   ]
  },
  {
   "cell_type": "code",
   "execution_count": 34,
   "id": "56cf2f37",
   "metadata": {},
   "outputs": [
    {
     "data": {
      "text/plain": [
       "array([1, 3, 9])"
      ]
     },
     "execution_count": 34,
     "metadata": {},
     "output_type": "execute_result"
    }
   ],
   "source": [
    "q[:,0]\n",
    "\n",
    "# sadece sütün seçme"
   ]
  },
  {
   "cell_type": "code",
   "execution_count": 36,
   "id": "86458216",
   "metadata": {},
   "outputs": [
    {
     "data": {
      "text/plain": [
       "array([1, 6, 3, 6, 9])"
      ]
     },
     "execution_count": 36,
     "metadata": {},
     "output_type": "execute_result"
    }
   ],
   "source": [
    "q[0,:]\n",
    "\n",
    "# ilk satırı seçme"
   ]
  },
  {
   "cell_type": "code",
   "execution_count": 37,
   "id": "116d05b4",
   "metadata": {},
   "outputs": [
    {
     "data": {
      "text/plain": [
       "array([[6, 9],\n",
       "       [2, 6]])"
      ]
     },
     "execution_count": 37,
     "metadata": {},
     "output_type": "execute_result"
    }
   ],
   "source": [
    "q[:2,3:]\n",
    "\n",
    "# belirli parçayı alma"
   ]
  },
  {
   "cell_type": "code",
   "execution_count": 38,
   "id": "38248bb9",
   "metadata": {},
   "outputs": [
    {
     "data": {
      "text/plain": [
       "array([ 0,  3,  6,  9, 12, 15, 18, 21, 24, 27])"
      ]
     },
     "execution_count": 38,
     "metadata": {},
     "output_type": "execute_result"
    }
   ],
   "source": [
    "v = np.arange(0,30,3)\n",
    "v\n",
    " \n",
    "# 0 dan 30 a kadar 3 er atlayarak arr oluşturur"
   ]
  },
  {
   "cell_type": "code",
   "execution_count": 39,
   "id": "091955e7",
   "metadata": {},
   "outputs": [
    {
     "data": {
      "text/plain": [
       "array([ 3,  9, 12, 21])"
      ]
     },
     "execution_count": 39,
     "metadata": {},
     "output_type": "execute_result"
    }
   ],
   "source": [
    "catch = [1,3,4,7]\n",
    "\n",
    "v[catch]\n",
    " \n",
    "# bu olaya(list ile birden fazla indexden value çekmek) fancy index deniyor"
   ]
  },
  {
   "cell_type": "code",
   "execution_count": 46,
   "id": "1e7982f5",
   "metadata": {},
   "outputs": [
    {
     "name": "stdout",
     "output_type": "stream",
     "text": [
      "[ 0  3  6  9 12]\n",
      "[ 0  6 12 18 24]\n"
     ]
    }
   ],
   "source": [
    "print(v[v<15])\n",
    "print(v[v%2==0])\n",
    "\n",
    "#fancy index örnekleri(içine true false arr de alabilir)"
   ]
  },
  {
   "cell_type": "code",
   "execution_count": 7,
   "id": "674477dd",
   "metadata": {},
   "outputs": [
    {
     "name": "stdout",
     "output_type": "stream",
     "text": [
      "[0.2 0.4 0.6 0.8 1. ]\n",
      "[ 6 12 18 24 30]\n",
      "[ 1  4  9 16 25]\n",
      "[0 1 2 3 4]\n",
      "--------\n",
      "[0 1 2 3 4]\n",
      "[2 3 4 5 6]\n",
      "3.0\n",
      "15\n",
      "1\n",
      "5\n",
      "2.0\n"
     ]
    }
   ],
   "source": [
    "v = np.array([1,2,3,4,5])\n",
    "\n",
    "print(v / 5)\n",
    "print(v * 6)\n",
    "print(v ** 2)\n",
    "print(v - 1)\n",
    "\n",
    "# bu şekilde manual yapılıyor\n",
    "print(\"--------\")\n",
    "\n",
    "print(np.subtract(v,1))\n",
    "print(np.add(v,1))\n",
    "print(np.mean(v))\n",
    "print(np.sum(v))\n",
    "print(np.min(v))\n",
    "print(np.max(v))\n",
    "print(np.var(v))\n",
    "\n",
    "# bu şekilde methodlarla yapılıyor\n"
   ]
  },
  {
   "cell_type": "code",
   "execution_count": 8,
   "id": "a1dc1290",
   "metadata": {},
   "outputs": [
    {
     "data": {
      "text/plain": [
       "array([1.85714286, 2.71428571])"
      ]
     },
     "execution_count": 8,
     "metadata": {},
     "output_type": "execute_result"
    }
   ],
   "source": [
    "\n",
    "\"\"\"\n",
    "iki bilinmeyenli denklen çözümü\n",
    "\n",
    "5x + y = 12\n",
    "x + 3y = 10\n",
    "\n",
    "\"\"\"\n",
    "\n",
    "a = np.array([[5,1],[1,3]]) # denklemlerdeki var'ların katsayıları\n",
    "b = np.array([12,10]) # denklemlerin sonuçları\n",
    "\n",
    "np.linalg.solve(a,b) #bu method ile çözülebiliyor (linear algebra sayesinde)"
   ]
  },
  {
   "cell_type": "code",
   "execution_count": null,
   "id": "6d6d0382",
   "metadata": {},
   "outputs": [],
   "source": []
  }
 ],
 "metadata": {
  "kernelspec": {
   "display_name": "Python 3",
   "language": "python",
   "name": "python3"
  },
  "language_info": {
   "codemirror_mode": {
    "name": "ipython",
    "version": 3
   },
   "file_extension": ".py",
   "mimetype": "text/x-python",
   "name": "python",
   "nbconvert_exporter": "python",
   "pygments_lexer": "ipython3",
   "version": "3.8.8"
  }
 },
 "nbformat": 4,
 "nbformat_minor": 5
}
